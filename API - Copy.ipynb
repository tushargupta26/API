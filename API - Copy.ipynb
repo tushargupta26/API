{
 "cells": [
  {
   "cell_type": "code",
   "execution_count": 15,
   "metadata": {},
   "outputs": [
    {
     "name": "stdout",
     "output_type": "stream",
     "text": [
      "200\n",
      "None\n",
      "https://codingninjas.in/api/v3/courses\n",
      "{'Date': 'Fri, 18 Dec 2020 17:10:17 GMT', 'Content-Type': 'application/json', 'Transfer-Encoding': 'chunked', 'Connection': 'keep-alive', 'Server': 'nginx', 'X-Frame-Options': 'SAMEORIGIN', 'X-XSS-Protection': '1; mode=block', 'X-Content-Type-Options': 'nosniff', 'Access-Control-Allow-Origin': '*', 'Access-Control-Allow-Methods': 'POST, GET, PATCH, PUT, DELETE, OPTIONS', 'Access-Control-Allow-Headers': 'Access-Control-Allow-Headers, Origin,Accept, X-Requested-With, Content-Type, Access-Control-Request-Method, Access-Control-Request-Headers, Authorization', 'Access-Control-Max-Age': '1728000', 'Vary': 'Accept-Encoding', 'Content-Encoding': 'gzip', 'ETag': 'W/\"f4afd06c6f550bfb7fbd9e7e9cb61783\"', 'Cache-Control': 'max-age=0, private, must-revalidate', 'X-Request-Id': '5f378d35-e6a9-4234-9e33-02f19d11b47b', 'X-Runtime': '0.011103', 'Strict-Transport-Security': 'max-age=31536000; includeSubDomains;'}\n",
      "Fri, 18 Dec 2020 17:10:17 GMT\n",
      "application/json\n"
     ]
    }
   ],
   "source": [
    "## https://codingninjas.in/api/v3/courses\n",
    "## https://api.github.com/events\n",
    "## https://dog.ceo/api/breeds/list/all\n",
    "import requests\n",
    "response = requests.get('https://codingninjas.in/api/v3/courses')\n",
    "print(response.status_code)\n",
    "print(response.encoding)\n",
    "# print(response.text)\n",
    "print(response.url)\n",
    "print(response.headers)\n",
    "headers_info = response.headers\n",
    "print(response.headers['Date'])\n",
    "print(headers_info['content-type'])"
   ]
  },
  {
   "cell_type": "code",
   "execution_count": 20,
   "metadata": {},
   "outputs": [
    {
     "name": "stdout",
     "output_type": "stream",
     "text": [
      "{'Student': 'Mohit'}\n",
      "<class 'dict'>\n",
      "Mohit\n"
     ]
    }
   ],
   "source": [
    "import json\n",
    "json_data = '{\"Student\" : \"Mohit\"}'\n",
    "python_data = json.loads(json_data)\n",
    "print(python_data)\n",
    "print(type(python_data))\n",
    "print(python_data['Student'])"
   ]
  },
  {
   "cell_type": "code",
   "execution_count": 22,
   "metadata": {},
   "outputs": [
    {
     "name": "stdout",
     "output_type": "stream",
     "text": [
      "{'roll_number': 101}\n",
      "<class 'dict'>\n",
      "<class 'int'>\n"
     ]
    }
   ],
   "source": [
    "json_data = '{\"roll_number\" : 101}'\n",
    "python_data = json.loads(json_data)\n",
    "print(python_data)\n",
    "print(type(python_data))\n",
    "print(type(python_data['roll_number']))"
   ]
  },
  {
   "cell_type": "code",
   "execution_count": 24,
   "metadata": {},
   "outputs": [
    {
     "name": "stdout",
     "output_type": "stream",
     "text": [
      "{'roll_number': None}\n",
      "<class 'dict'>\n",
      "None\n"
     ]
    }
   ],
   "source": [
    "json_data = '{\"roll_number\" : null}'\n",
    "python_data = json.loads(json_data)\n",
    "print(python_data)\n",
    "print(type(python_data))\n",
    "print(python_data['roll_number'])"
   ]
  },
  {
   "cell_type": "code",
   "execution_count": 28,
   "metadata": {},
   "outputs": [
    {
     "name": "stdout",
     "output_type": "stream",
     "text": [
      "{'Student': {'Name': 'Mohit', 'roll_number': 101}}\n",
      "Mohit\n"
     ]
    }
   ],
   "source": [
    "json_data = '{\"Student\" : {\"Name\":\"Mohit\",\"roll_number\" : 101}}'\n",
    "python_data = json.loads(json_data)\n",
    "student_details = python_data['Student']\n",
    "print(python_data)\n",
    "print(student_details['Name'])"
   ]
  },
  {
   "cell_type": "code",
   "execution_count": 30,
   "metadata": {},
   "outputs": [
    {
     "name": "stdout",
     "output_type": "stream",
     "text": [
      "200\n",
      "None\n",
      "https://codingninjas.in/api/v3/courses\n",
      "{'Date': 'Fri, 18 Dec 2020 17:32:25 GMT', 'Content-Type': 'application/json', 'Transfer-Encoding': 'chunked', 'Connection': 'keep-alive', 'Server': 'nginx', 'X-Frame-Options': 'SAMEORIGIN', 'X-XSS-Protection': '1; mode=block', 'X-Content-Type-Options': 'nosniff', 'Access-Control-Allow-Origin': '*', 'Access-Control-Allow-Methods': 'POST, GET, PATCH, PUT, DELETE, OPTIONS', 'Access-Control-Allow-Headers': 'Access-Control-Allow-Headers, Origin,Accept, X-Requested-With, Content-Type, Access-Control-Request-Method, Access-Control-Request-Headers, Authorization', 'Access-Control-Max-Age': '1728000', 'Vary': 'Accept-Encoding', 'Content-Encoding': 'gzip', 'ETag': 'W/\"8676a5ae91a3db76379f759eef591524\"', 'Cache-Control': 'max-age=0, private, must-revalidate', 'X-Request-Id': 'df6a9a81-ac1a-4fb2-af95-8f80a2637495', 'X-Runtime': '0.008297', 'Strict-Transport-Security': 'max-age=31536000; includeSubDomains;'}\n",
      "Fri, 18 Dec 2020 17:32:25 GMT\n",
      "application/json\n"
     ]
    }
   ],
   "source": [
    "## https://codingninjas.in/api/v3/courses\n",
    "## https://api.github.com/events\n",
    "## https://dog.ceo/api/breeds/list/all\n",
    "import requests\n",
    "response = requests.get('https://codingninjas.in/api/v3/courses')\n",
    "print(response.status_code)\n",
    "print(response.encoding)\n",
    "# print(response.text)\n",
    "print(response.url)\n",
    "print(response.headers)\n",
    "headers_info = response.headers\n",
    "print(response.headers['Date'])\n",
    "print(headers_info['content-type'])"
   ]
  },
  {
   "cell_type": "code",
   "execution_count": 37,
   "metadata": {
    "scrolled": false
   },
   "outputs": [
    {
     "name": "stdout",
     "output_type": "stream",
     "text": [
      "Competitive Programmer\n",
      "Premium Android Course\n",
      "C++ & Data Structures\n",
      "Front End (React)\n",
      "Data structures and Algorithms [C++/Java/Python]\n",
      "Machine Learning\n",
      "Premium Competitive Course\n",
      "Premium Machine Learning Course\n",
      "Premium Data Science Course\n",
      "Premium Web Dev Course\n",
      "Web Dev (Full Stack)\n",
      "Android Developer\n",
      "Java & Data Structures\n",
      "Python & Web Dev (MERN)\n",
      "Data Science\n",
      "Interview Preperation\n",
      "C++ & Web Dev (Node.js)\n",
      "Competitive Programming\n",
      "Python & Data Structures\n",
      "Android (Kotlin)\n",
      "Data Scientist\n",
      "Aptitude Preparation\n",
      "Machine Learning\n",
      "23\n"
     ]
    }
   ],
   "source": [
    "import json\n",
    "python_data = json.loads(response.text)\n",
    "# print(python_data)\n",
    "all_courses = python_data['data']['courses']\n",
    "# print(all_courses)\n",
    "for i in all_courses:\n",
    "    print(i['title'])\n",
    "print(len(all_courses))"
   ]
  },
  {
   "cell_type": "code",
   "execution_count": 46,
   "metadata": {},
   "outputs": [
    {
     "name": "stdout",
     "output_type": "stream",
     "text": [
      "blenheim\n",
      "brittany\n",
      "cocker\n",
      "irish\n",
      "japanese\n",
      "sussex\n",
      "welsh\n"
     ]
    }
   ],
   "source": [
    "p = requests.get('https://dog.ceo/api/breeds/list/all')\n",
    "# print(p.text)\n",
    "python_data = p.json()\n",
    "# print(python_data)\n",
    "# for key,val in python_data['message'].items():\n",
    "#     print(key,':',len(val))\n",
    "for i in python_data['message']['spaniel']:\n",
    "    print(i)"
   ]
  },
  {
   "cell_type": "code",
   "execution_count": 49,
   "metadata": {},
   "outputs": [
    {
     "name": "stdout",
     "output_type": "stream",
     "text": [
      "afghan\n",
      "basset\n",
      "blood\n",
      "english\n",
      "ibizan\n",
      "plott\n",
      "walker\n"
     ]
    }
   ],
   "source": [
    "import requests\n",
    "p = requests.get('https://dog.ceo/api/breeds/list/all')\n",
    "python_data = p.json()\n",
    "for i in python_data['message']['hound']:\n",
    "    print(i)"
   ]
  },
  {
   "cell_type": "code",
   "execution_count": 51,
   "metadata": {},
   "outputs": [
    {
     "name": "stdout",
     "output_type": "stream",
     "text": [
      "3\n"
     ]
    }
   ],
   "source": [
    "import requests\n",
    "p = requests.get('https://dog.ceo/api/breeds/list/all/')\n",
    "python_data = p.json()\n",
    "print(len(python_data['message']['poodle']))"
   ]
  },
  {
   "cell_type": "code",
   "execution_count": 55,
   "metadata": {},
   "outputs": [
    {
     "name": "stdout",
     "output_type": "stream",
     "text": [
      "Ninja Competitive Programmer Track\n",
      "Premium Android App Development\n",
      "C++ Foundation with Data Structures\n",
      "Advanced  Front-End Web Development with React\n",
      "Premium Data structures and Algorithms [C++/Java/Python]\n",
      "Machine Learning & Deep Learning Course\n",
      "Premium Competitive Programming Course\n",
      "Premium Machine Learning Course\n",
      "Premium Data Science Course\n",
      "Premium Full Stack Web Development\n",
      "Full Stack Web Development\n",
      "Ninja Android Developer Career Track \n",
      "JAVA Foundation with Data Structures\n",
      "Ninja  Web Developer Career Track - NodeJS & ReactJs\n",
      "Data Science & Machine Learning Complete\n",
      "Interview Preparation Course\n",
      "Ninja  Web Developer Career Track - NodeJS\n",
      "Competitive Programming Course\n",
      "Python Foundation with Data Structures\n",
      "Android Development with Kotlin\n",
      "Ninja Data Scientist Career Track\n",
      "Aptitude Preparation Course\n",
      "Ninja Machine Learning Engineer Career Track\n"
     ]
    }
   ],
   "source": [
    "import requests\n",
    "p = requests.get('https://api.codingninjas.com/api/v3/courses')\n",
    "python_data = p.json()\n",
    "for i in python_data['data']['courses']:\n",
    "    if i['available_online'] == True:\n",
    "        print(i['name'])"
   ]
  },
  {
   "cell_type": "code",
   "execution_count": 57,
   "metadata": {},
   "outputs": [
    {
     "name": "stdout",
     "output_type": "stream",
     "text": [
      "Give your career a head-start and know how you can get closer to your dream job by refining your coding skills. Just for you exclusively, we've got \"Freshmen Induction\", an exclusive webinar by our Co-founder Mr. Ankush Singla, who will give you major insights that can shape your programming career.\n"
     ]
    }
   ],
   "source": [
    "import requests\n",
    "p = requests.get('https://api.codingninjas.com/api/v3/events?event_category=ALL_EVENTS&event_sub_category=All%20Time%20Favorites&tag_list=&offset=0&_ga=2.116067462.1265562925.1608273401-259133476.1607878106')\n",
    "python_data = p.json()\n",
    "if len(python_data['data']['events']) == 0:\n",
    "    print('No Events !')\n",
    "else:\n",
    "    print(python_data['data']['events'][0]['short_desc'])"
   ]
  },
  {
   "cell_type": "code",
   "execution_count": 68,
   "metadata": {},
   "outputs": [
    {
     "name": "stdout",
     "output_type": "stream",
     "text": [
      "200\n",
      "{'meta': {'name': 'openaq-api', 'license': 'CC BY 4.0', 'website': 'https://docs.openaq.org/', 'page': 1, 'limit': 1, 'found': 3}, 'results': [{'country': 'AE', 'name': 'Abu Dhabi', 'city': 'Abu Dhabi', 'count': 370119, 'locations': 1}]}\n",
      "https://api.openaq.org/v1/cities?country=AE&limit=1\n"
     ]
    }
   ],
   "source": [
    "a = requests.get('https://api.openaq.org/v1/cities',params = {\"country\" : \"AE\",\"limit\":1})\n",
    "print(a.status_code)\n",
    "print(a.json())\n",
    "print(a.url)"
   ]
  },
  {
   "cell_type": "code",
   "execution_count": 65,
   "metadata": {},
   "outputs": [
    {
     "name": "stdout",
     "output_type": "stream",
     "text": [
      "Machine Learning\n"
     ]
    }
   ],
   "source": [
    "import requests\n",
    "p = requests.get('http://api.codingninjas.com/api/v3/courses')\n",
    "python_data = p.json()\n",
    "for i in python_data['data']['courses']:\n",
    "    if i['id'] == 19:\n",
    "        print(i['title'])\n",
    "        break"
   ]
  },
  {
   "cell_type": "code",
   "execution_count": 72,
   "metadata": {},
   "outputs": [
    {
     "name": "stdout",
     "output_type": "stream",
     "text": [
      "65\n"
     ]
    }
   ],
   "source": [
    "import requests\n",
    "a = requests.get('https://api.openaq.org/v1/cities/',params = {\"country\":\"AU\"})\n",
    "# print(a.url)\n",
    "python_data = a.json()\n",
    "# print(python_data)\n",
    "print(len(python_data['results']))"
   ]
  },
  {
   "cell_type": "code",
   "execution_count": 75,
   "metadata": {},
   "outputs": [
    {
     "name": "stdout",
     "output_type": "stream",
     "text": [
      "Antwerpen\n",
      "Brabant wallon\n",
      "Brussels\n",
      "Brussels-Capital Region\n",
      "Flanders\n"
     ]
    }
   ],
   "source": [
    "import requests\n",
    "a = requests.get('https://api.openaq.org/v1/cities/',params = {\"country\":\"BE\",\"limit\":5,\"order_by\":\"city\"})\n",
    "# print(a.url)\n",
    "python_data = a.json()\n",
    "# print(python_data)\n",
    "# print(len(python_data['results']))\n",
    "for i in python_data['results']:\n",
    "    print(i['city'])"
   ]
  },
  {
   "cell_type": "code",
   "execution_count": 80,
   "metadata": {},
   "outputs": [
    {
     "name": "stdout",
     "output_type": "stream",
     "text": [
      "200\n",
      "https://www.metaweather.com/api/location/search/?query=Delhi\n",
      "[{'title': 'New Delhi', 'location_type': 'City', 'woeid': 28743736, 'latt_long': '28.643999,77.091003'}]\n"
     ]
    }
   ],
   "source": [
    "import requests\n",
    "a = requests.get('https://www.metaweather.com/api/location/search/',params = {\"query\":\"Delhi\"})\n",
    "print(a.status_code)\n",
    "print(a.url)\n",
    "print(a.json())"
   ]
  },
  {
   "cell_type": "code",
   "execution_count": 84,
   "metadata": {},
   "outputs": [
    {
     "name": "stdout",
     "output_type": "stream",
     "text": [
      "200\n",
      "https://api.nasa.gov/planetary/apod?api_key=DEMO_KEY\n"
     ]
    }
   ],
   "source": [
    "a = requests.get('https://api.nasa.gov/planetary/apod',params = {\"api_key\":\"DEMO_KEY\"})\n",
    "print(a.status_code)\n",
    "print(a.url)"
   ]
  },
  {
   "cell_type": "code",
   "execution_count": 95,
   "metadata": {},
   "outputs": [
    {
     "name": "stdout",
     "output_type": "stream",
     "text": [
      "1132447\n"
     ]
    }
   ],
   "source": [
    "import requests\n",
    "a = requests.get('https://www.metaweather.com/api/location/search/',params = {\"query\":\"USA\"})\n",
    "python_data = a.json()\n",
    "# print(a.url)\n",
    "# print(python_data)\n",
    "print(python_data[0]['woeid'])\n",
    "# print(type(python_data))"
   ]
  },
  {
   "cell_type": "code",
   "execution_count": 103,
   "metadata": {},
   "outputs": [
    {
     "name": "stdout",
     "output_type": "stream",
     "text": [
      "Mahatma Gandhi Jayanti\n"
     ]
    }
   ],
   "source": [
    "import requests\n",
    "a = requests.get(\"https://holidayapi.com/v1/holidays\",params = {\"country\":\"IND\",\"key\":\"b5152636-4127-4dc7-8dbb-31d3f2a30cdd\",\"year\":2019,\"month\":10,\"day\":2})\n",
    "# print(a.status_code)\n",
    "# print(a.url)\n",
    "python_data = a.json()\n",
    "# print(python_data['holidays'][0]['name'])\n",
    "for i in python_data['holidays']:\n",
    "    print(i['name'])"
   ]
  },
  {
   "cell_type": "code",
   "execution_count": 105,
   "metadata": {},
   "outputs": [
    {
     "name": "stdout",
     "output_type": "stream",
     "text": [
      "<Response [200]>\n",
      "{\n",
      "  \"args\": {}, \n",
      "  \"data\": \"\", \n",
      "  \"files\": {}, \n",
      "  \"form\": {}, \n",
      "  \"headers\": {\n",
      "    \"Accept\": \"*/*\", \n",
      "    \"Accept-Encoding\": \"gzip, deflate\", \n",
      "    \"Content-Length\": \"0\", \n",
      "    \"Host\": \"httpbin.org\", \n",
      "    \"User-Agent\": \"python-requests/2.24.0\", \n",
      "    \"X-Amzn-Trace-Id\": \"Root=1-5fdd0291-652093c1508404a94df952ea\"\n",
      "  }, \n",
      "  \"json\": null, \n",
      "  \"origin\": \"49.36.230.247\", \n",
      "  \"url\": \"https://httpbin.org/post\"\n",
      "}\n",
      "\n"
     ]
    }
   ],
   "source": [
    "import requests\n",
    "response = requests.post('https://httpbin.org/post')\n",
    "print(response)\n",
    "print(response.text)"
   ]
  },
  {
   "cell_type": "code",
   "execution_count": 107,
   "metadata": {},
   "outputs": [
    {
     "name": "stdout",
     "output_type": "stream",
     "text": [
      "<Response [200]>\n",
      "{\n",
      "  \"args\": {}, \n",
      "  \"data\": \"\", \n",
      "  \"files\": {}, \n",
      "  \"form\": {\n",
      "    \"Key1\": \"val1\", \n",
      "    \"Key2\": \"val2\"\n",
      "  }, \n",
      "  \"headers\": {\n",
      "    \"Accept\": \"*/*\", \n",
      "    \"Accept-Encoding\": \"gzip, deflate\", \n",
      "    \"Content-Length\": \"19\", \n",
      "    \"Content-Type\": \"application/x-www-form-urlencoded\", \n",
      "    \"Host\": \"httpbin.org\", \n",
      "    \"User-Agent\": \"python-requests/2.24.0\", \n",
      "    \"X-Amzn-Trace-Id\": \"Root=1-5fdd02cb-2b9da5b364190385111f756f\"\n",
      "  }, \n",
      "  \"json\": null, \n",
      "  \"origin\": \"49.36.230.247\", \n",
      "  \"url\": \"https://httpbin.org/post\"\n",
      "}\n",
      "\n"
     ]
    }
   ],
   "source": [
    "import requests\n",
    "response = requests.post('https://httpbin.org/post',data = {'Key1':'val1','Key2':'val2'})\n",
    "print(response)\n",
    "print(response.text)"
   ]
  },
  {
   "cell_type": "code",
   "execution_count": 109,
   "metadata": {},
   "outputs": [
    {
     "name": "stdout",
     "output_type": "stream",
     "text": [
      "<Response [200]>\n",
      "{\n",
      "  \"args\": {}, \n",
      "  \"data\": \"\", \n",
      "  \"files\": {}, \n",
      "  \"form\": {\n",
      "    \"Key1\": [\n",
      "      \"val1\", \n",
      "      \"val3\"\n",
      "    ], \n",
      "    \"Key2\": \"val2\"\n",
      "  }, \n",
      "  \"headers\": {\n",
      "    \"Accept\": \"*/*\", \n",
      "    \"Accept-Encoding\": \"gzip, deflate\", \n",
      "    \"Content-Length\": \"29\", \n",
      "    \"Content-Type\": \"application/x-www-form-urlencoded\", \n",
      "    \"Host\": \"httpbin.org\", \n",
      "    \"User-Agent\": \"python-requests/2.24.0\", \n",
      "    \"X-Amzn-Trace-Id\": \"Root=1-5fdd02e9-16a6e1327c24093338dc0398\"\n",
      "  }, \n",
      "  \"json\": null, \n",
      "  \"origin\": \"49.36.230.247\", \n",
      "  \"url\": \"https://httpbin.org/post\"\n",
      "}\n",
      "\n"
     ]
    }
   ],
   "source": [
    "import requests\n",
    "response = requests.post('https://httpbin.org/post',data = {'Key1':['val1','val3'],'Key2':'val2'})\n",
    "print(response)\n",
    "print(response.text)"
   ]
  },
  {
   "cell_type": "code",
   "execution_count": 112,
   "metadata": {},
   "outputs": [
    {
     "name": "stdout",
     "output_type": "stream",
     "text": [
      "<Response [200]>\n",
      "{\n",
      "  \"args\": {}, \n",
      "  \"data\": \"\", \n",
      "  \"files\": {}, \n",
      "  \"form\": {\n",
      "    \"Key1\": \"val1\", \n",
      "    \"Key2\": [\n",
      "      \"val2\", \n",
      "      \"val3\"\n",
      "    ]\n",
      "  }, \n",
      "  \"headers\": {\n",
      "    \"Accept\": \"*/*\", \n",
      "    \"Accept-Encoding\": \"gzip, deflate\", \n",
      "    \"Content-Length\": \"29\", \n",
      "    \"Content-Type\": \"application/x-www-form-urlencoded\", \n",
      "    \"Host\": \"httpbin.org\", \n",
      "    \"User-Agent\": \"python-requests/2.24.0\", \n",
      "    \"X-Amzn-Trace-Id\": \"Root=1-5fdd034b-5019355528e69ab564d31a37\"\n",
      "  }, \n",
      "  \"json\": null, \n",
      "  \"origin\": \"49.36.230.247\", \n",
      "  \"url\": \"https://httpbin.org/post\"\n",
      "}\n",
      "\n"
     ]
    }
   ],
   "source": [
    "import requests\n",
    "response = requests.post('https://httpbin.org/post',data = [('Key1','val1'),('Key2','val2'),('Key2','val3')])\n",
    "print(response)\n",
    "print(response.text)"
   ]
  },
  {
   "cell_type": "code",
   "execution_count": 116,
   "metadata": {},
   "outputs": [
    {
     "name": "stdout",
     "output_type": "stream",
     "text": [
      "<Response [201]>\n",
      "{\n",
      "  \"id\": 101\n",
      "}\n"
     ]
    }
   ],
   "source": [
    "r = requests.post('http://jsonplaceholder.typicode.com/posts')\n",
    "print(r)\n",
    "print(r.text)"
   ]
  },
  {
   "cell_type": "code",
   "execution_count": 117,
   "metadata": {},
   "outputs": [
    {
     "name": "stdout",
     "output_type": "stream",
     "text": [
      "<Response [201]>\n",
      "{\n",
      "  \"userId\": \"2\",\n",
      "  \"<built-in function id>\": \"200\",\n",
      "  \"title\": \"test\",\n",
      "  \"id\": 101\n",
      "}\n"
     ]
    }
   ],
   "source": [
    "r = requests.post('http://jsonplaceholder.typicode.com/posts',data = {'userId':2,id:200,'title':'test'})\n",
    "print(r)\n",
    "print(r.text)"
   ]
  }
 ],
 "metadata": {
  "kernelspec": {
   "display_name": "Python 3",
   "language": "python",
   "name": "python3"
  },
  "language_info": {
   "codemirror_mode": {
    "name": "ipython",
    "version": 3
   },
   "file_extension": ".py",
   "mimetype": "text/x-python",
   "name": "python",
   "nbconvert_exporter": "python",
   "pygments_lexer": "ipython3",
   "version": "3.8.5"
  }
 },
 "nbformat": 4,
 "nbformat_minor": 4
}
